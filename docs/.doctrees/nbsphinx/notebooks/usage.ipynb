{
 "cells": [
  {
   "cell_type": "markdown",
   "id": "52dfe448-cbc1-40f0-b417-ab69302c4185",
   "metadata": {
    "tags": []
   },
   "source": [
    "# Quickstart\n",
    "SIR model is used for an example. Explanation of SIR model can be found [here](https://en.wikipedia.org/wiki/Compartmental_models_in_epidemiology#The_SIR_model)."
   ]
  },
  {
   "cell_type": "markdown",
   "id": "b8ec693b-6b97-4831-a890-a3f734557382",
   "metadata": {},
   "source": [
    "First, import a module. "
   ]
  },
  {
   "cell_type": "code",
   "execution_count": 1,
   "id": "c93348ee-c068-4791-8e08-e1d0afd1f05e",
   "metadata": {},
   "outputs": [],
   "source": [
    "import matplotlib.pyplot as plt\n",
    "import py_compart_model as pcm"
   ]
  },
  {
   "cell_type": "markdown",
   "id": "556f69d8-4ca0-4ab1-b938-dae11e4058bc",
   "metadata": {},
   "source": [
    "Prepare parameters for SIR model."
   ]
  },
  {
   "cell_type": "code",
   "execution_count": 2,
   "id": "b2461661-dabc-42b0-be96-48f3d9be1678",
   "metadata": {},
   "outputs": [],
   "source": [
    "R0 = 2\n",
    "gamma = 1/10\n",
    "N = 100\n",
    "beta = R0*gamma/N"
   ]
  },
  {
   "cell_type": "markdown",
   "id": "17ac291f-fc93-41a4-9b3b-d3026d10dddc",
   "metadata": {},
   "source": [
    "Set parameters and compartment model with values or without values. Model definition should be defined inside a context manager, but you can specify initial values for each compartment and values for parameters outside a context manager."
   ]
  },
  {
   "cell_type": "code",
   "execution_count": 3,
   "id": "dc16eaeb-c0ce-4e21-8388-06c926b25257",
   "metadata": {},
   "outputs": [],
   "source": [
    "_beta  = pcm.Param(\"beta\")\n",
    "_gamma = pcm.Param(\"gamma\", value=gamma)\n",
    "with pcm.Model() as m:\n",
    "    S = m.C(\"S\")\n",
    "    I = m.C(\"I\")\n",
    "    R = m.C(\"R\", value=0) \n",
    "    S.d = - _beta * S * I \n",
    "    I.d = + _beta * S * I - _gamma * I\n",
    "    R.d = + _gamma * I "
   ]
  },
  {
   "cell_type": "markdown",
   "id": "f5af05d6-ba4f-4d3e-987a-c9b8fb831a70",
   "metadata": {},
   "source": [
    "Pass parameters to the model, and create a function for fitting. Currently, py_compart_model takes approch to generate string form of function and execute this string to create function. Since pure function is applied, there is no overhead for calculation for this package. "
   ]
  },
  {
   "cell_type": "code",
   "execution_count": 4,
   "id": "b88c2b9d-4160-4923-b632-d12e19e17d5f",
   "metadata": {},
   "outputs": [
    {
     "name": "stdout",
     "output_type": "stream",
     "text": [
      "def _f(t, y, beta, gamma):\n",
      "    S = y[0]\n",
      "    I = y[1]\n",
      "    R = y[2]\n",
      "    dS =  - beta * (S) * (I)\n",
      "    dI =  + beta * (S) * (I) - gamma * (I)\n",
      "    dR =  + gamma * (I)\n",
      "    return [dS,dI,dR]\n"
     ]
    }
   ],
   "source": [
    "m.create_function((_beta,_gamma))"
   ]
  },
  {
   "cell_type": "markdown",
   "id": "76964986-721d-4a57-90e1-eb9eda03b26b",
   "metadata": {},
   "source": [
    "Values for parameters and initial values for compartments can be specified after create_function method. This allows us to simulate a model, varying parameters and initial values. "
   ]
  },
  {
   "cell_type": "code",
   "execution_count": 5,
   "id": "c3f767e7-bdb6-4c72-9b82-9a2d6023de2d",
   "metadata": {},
   "outputs": [],
   "source": [
    "_beta.set_value(beta)\n",
    "S.set_init(N-1)\n",
    "I.set_init(1)"
   ]
  },
  {
   "cell_type": "markdown",
   "id": "81f5cad7-13de-411d-a233-137480461854",
   "metadata": {},
   "source": [
    "Then, solve equation. At present, solve uses solve_ivp implemented in scipy. kargs is passed to solve_ivp function."
   ]
  },
  {
   "cell_type": "code",
   "execution_count": 6,
   "id": "1f714782-0344-491a-bf8e-bc0d60b31851",
   "metadata": {},
   "outputs": [],
   "source": [
    "ode_res = m.solve([0,200], max_step=0.1)"
   ]
  },
  {
   "cell_type": "markdown",
   "id": "2b64d611-f1b0-4523-b4be-e165910c49da",
   "metadata": {},
   "source": [
    "Summary print out inits, args and message for solving results. "
   ]
  },
  {
   "cell_type": "code",
   "execution_count": 7,
   "id": "502f5a33-e7ae-44be-8593-c0867c932722",
   "metadata": {},
   "outputs": [
    {
     "name": "stdout",
     "output_type": "stream",
     "text": [
      "inits : {'S': 99, 'I': 1, 'R': 0}\n",
      "args : {'beta': 0.002, 'gamma': 0.1}\n",
      "message : The solver successfully reached the end of the integration interval.\n",
      "\n"
     ]
    }
   ],
   "source": [
    "ode_res.summary()"
   ]
  },
  {
   "cell_type": "markdown",
   "id": "ec945aad-31a1-493f-bdd9-e1767f680afd",
   "metadata": {},
   "source": [
    "Can access to results of solve_ivp, and results of y are mapped to its variables. "
   ]
  },
  {
   "cell_type": "code",
   "execution_count": 8,
   "id": "5b7b8ad5-cf7c-4aef-961b-cb54cfd02d5c",
   "metadata": {},
   "outputs": [
    {
     "name": "stdout",
     "output_type": "stream",
     "text": [
      "        I: array([1.        , 1.00138615, 1.0112454 , ..., 0.003735  , 0.00371264,\n",
      "       0.00369355])\n",
      "        R: array([0.00000000e+00, 1.41447896e-03, 1.14775596e-02, ...,\n",
      "       8.00141757e+01, 8.00142130e+01, 8.00142448e+01])\n",
      "        S: array([99.        , 98.99719937, 98.97727704, ..., 19.98208926,\n",
      "       19.98207438, 19.98206167])\n",
      "  message: 'The solver successfully reached the end of the integration interval.'\n",
      "     nfev: 12008\n",
      "     njev: 0\n",
      "      nlu: 0\n",
      "      sol: None\n",
      "   status: 0\n",
      "  success: True\n",
      "        t: array([0.00000000e+00, 1.41349951e-02, 1.14134995e-01, ...,\n",
      "       1.99814135e+02, 1.99914135e+02, 2.00000000e+02])\n",
      " t_events: None\n",
      "        y: array([[9.90000000e+01, 9.89971994e+01, 9.89772770e+01, ...,\n",
      "        1.99820893e+01, 1.99820744e+01, 1.99820617e+01],\n",
      "       [1.00000000e+00, 1.00138615e+00, 1.01124540e+00, ...,\n",
      "        3.73499825e-03, 3.71264206e-03, 3.69355271e-03],\n",
      "       [0.00000000e+00, 1.41447896e-03, 1.14775596e-02, ...,\n",
      "        8.00141757e+01, 8.00142130e+01, 8.00142448e+01]])\n",
      " y_events: None\n",
      "[1.         1.00138615 1.0112454  ... 0.003735   0.00371264 0.00369355]\n"
     ]
    }
   ],
   "source": [
    "res = ode_res.result\n",
    "print(res)\n",
    "print(res.I)"
   ]
  },
  {
   "cell_type": "markdown",
   "id": "257567d5-9f6c-4cc4-8985-2178a5667258",
   "metadata": {},
   "source": [
    "For visualization. "
   ]
  },
  {
   "cell_type": "code",
   "execution_count": 9,
   "id": "5cffbac0-7cea-49ad-9026-99fc7a22093c",
   "metadata": {},
   "outputs": [
    {
     "data": {
      "image/png": "[encoded data removed]",
      "text/plain": [
       "<Figure size 432x288 with 1 Axes>"
      ]
     },
     "metadata": {
      "needs_background": "light"
     },
     "output_type": "display_data"
    }
   ],
   "source": [
    "pcm.plot_over_time(ode_res)"
   ]
  },
  {
   "cell_type": "markdown",
   "id": "4145613f-1e29-4358-b19b-80bd83ac2deb",
   "metadata": {},
   "source": [
    "you can pass ax to control visualization and specify both compartment by sting or Compartments class used in contextmanager for plotting."
   ]
  },
  {
   "cell_type": "code",
   "execution_count": 10,
   "id": "6e51a222-4b73-4245-86ea-fcaace97d764",
   "metadata": {},
   "outputs": [
    {
     "data": {
      "image/png": "[encoded data removed]",
      "text/plain": [
       "<Figure size 500x300 with 1 Axes>"
      ]
     },
     "metadata": {
      "needs_background": "light"
     },
     "output_type": "display_data"
    }
   ],
   "source": [
    "fig = plt.figure(figsize=(5,3),dpi=100)\n",
    "ax = fig.add_subplot(111)\n",
    "pcm.plot_over_time(ode_res, comparts=[\"I\", R], ax=ax)"
   ]
  },
  {
   "cell_type": "markdown",
   "id": "6dddb1b8-dc06-43f0-8c14-f72a0b61d260",
   "metadata": {},
   "source": [
    "## Note \n",
    "Since this package is not mature, it does not support \n",
    "- Matrix arguments, specify size for each compoment to include stratified simulation. \n",
    "- Does not gurantee no weired behaviors. I can not cover all problems caused from string generated functions.  \n",
    "\n",
    "If you want to improve it, please help me to develop a better one!! "
   ]
  },
  {
   "cell_type": "markdown",
   "id": "14741443-dc64-4ca3-81fd-4776f7201bfb",
   "metadata": {},
   "source": [
    "# Motivation\n",
    "If you want to use solve_ivp, you should concatate variables into one. This task is redundunt and causes mistakes. If you want to implement the same SIR model described in Quickstart, code becomes like,"
   ]
  },
  {
   "cell_type": "code",
   "execution_count": 11,
   "id": "1f1b4d87-b65f-4ce7-a2d4-261847534257",
   "metadata": {},
   "outputs": [],
   "source": [
    "from scipy.integrate import solve_ivp"
   ]
  },
  {
   "cell_type": "code",
   "execution_count": 12,
   "id": "5845f5df-58e0-4a03-ab38-e93d44ebb21d",
   "metadata": {},
   "outputs": [],
   "source": [
    "def sir(t,y,beta, gamma):\n",
    "    S = y[0]\n",
    "    I = y[1]\n",
    "    R = y[2]\n",
    "    dS = - beta * S * I\n",
    "    dI = + beta * S * I - gamma*I\n",
    "    dR = + gamma*I\n",
    "    d = [dS,dI,dR]\n",
    "    return d\n",
    "\n",
    "R0 = 2\n",
    "gamma = 1/10\n",
    "N = 100\n",
    "beta = R0*gamma/N\n",
    "res = solve_ivp(sir, [0,200], [N - 1,1,0], args=(beta, gamma),  max_step=0.1)"
   ]
  },
  {
   "cell_type": "markdown",
   "id": "c2b1d42f-6118-4329-a65c-99a9c8bc2cac",
   "metadata": {},
   "source": [
    "So, you should be very careful about orders about passing parameters for both initial values and parameter values. Also you have to decompose results into compartment names if you want to handle with results.   \n",
    "This package removes these processes, and preserves calculation speed as natively implemented version, since the package is just a syntax suger."
   ]
  }
 ],
 "metadata": {
  "kernelspec": {
   "display_name": "Python 3 (ipykernel)",
   "language": "python",
   "name": "python3"
  },
  "language_info": {
   "codemirror_mode": {
    "name": "ipython",
    "version": 3
   },
   "file_extension": ".py",
   "mimetype": "text/x-python",
   "name": "python",
   "nbconvert_exporter": "python",
   "pygments_lexer": "ipython3",
   "version": "3.9.7"
  }
 },
 "nbformat": 4,
 "nbformat_minor": 5
}
